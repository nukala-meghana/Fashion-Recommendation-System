{
  "nbformat": 4,
  "nbformat_minor": 0,
  "metadata": {
    "colab": {
      "provenance": [],
      "authorship_tag": "ABX9TyPWgDyhfQGciRZXWE2uY09E",
      "include_colab_link": true
    },
    "kernelspec": {
      "name": "python3",
      "display_name": "Python 3"
    },
    "language_info": {
      "name": "python"
    }
  },
  "cells": [
    {
      "cell_type": "markdown",
      "metadata": {
        "id": "view-in-github",
        "colab_type": "text"
      },
      "source": [
        "<a href=\"https://colab.research.google.com/github/nukala-meghana/Fashion-Recommendation-System/blob/main/ADSA.ipynb\" target=\"_parent\"><img src=\"https://colab.research.google.com/assets/colab-badge.svg\" alt=\"Open In Colab\"/></a>"
      ]
    },
    {
      "cell_type": "code",
      "execution_count": 1,
      "metadata": {
        "colab": {
          "base_uri": "https://localhost:8080/"
        },
        "id": "CulMLD6iykVG",
        "outputId": "70fe4bc6-31d3-4482-ca02-8bd6d0a912c7"
      },
      "outputs": [
        {
          "output_type": "stream",
          "name": "stdout",
          "text": [
            "alice\n",
            "patient_001\n",
            "20\n"
          ]
        }
      ],
      "source": [
        "# Define a class for a Node in the linked list\n",
        "class Node:\n",
        "    # The constructor for the Node class\n",
        "    def __init__(self, patient_id,name,age):\n",
        "      # Initialize the patient_id, name, and age attributes of the node\n",
        "      self.patient_id = patient_id\n",
        "      self.name = name\n",
        "      self.age = age\n",
        "      # Initialize the 'next' attribute to None, as this node is initially not linked to another\n",
        "      self.next = None\n",
        "\n",
        "# Define a class for the Patient Linked List\n",
        "class PatientLinkedList:\n",
        "    # The constructor for the PatientLinkedList class\n",
        "    def __init__(self):\n",
        "      # Initialize the head and tail of the linked list to None, indicating an empty list\n",
        "      self.head = None\n",
        "      self.tail = None\n",
        "\n",
        "    # Method to insert a new patient into the linked list\n",
        "    def insert_patient(self,patient_id,name,age):\n",
        "      # Create a new Node object with the provided patient details\n",
        "      new_node = Node(patient_id,name,age)\n",
        "      # Check if the linked list is empty\n",
        "      if self.head is None:\n",
        "        # If the list is empty, set the new node as both the head and the tail\n",
        "        self.head = new_node\n",
        "        self.tail = new_node\n",
        "\n",
        "\n",
        "# Create an instance of the PatientLinkedList class\n",
        "L = PatientLinkedList()\n",
        "\n",
        "# Create a new Node object for a patient\n",
        "n1=Node(\"patient_001\",\"alice\",20) # Correctly initialize Node\n",
        "\n",
        "# Set the head of the linked list to the new node\n",
        "L.head=n1\n",
        "# Set the tail of the linked list to the new node (since there's only one node)\n",
        "L.tail=n1\n",
        "\n",
        "# Print the name of the patient at the head of the list\n",
        "print(L.head.name)\n",
        "# Print the patient ID of the patient at the head of the list\n",
        "print(L.head.patient_id)\n",
        "# Print the age of the patient at the head of the list\n",
        "print(L.head.age) # Access age through L.head"
      ]
    }
  ]
}